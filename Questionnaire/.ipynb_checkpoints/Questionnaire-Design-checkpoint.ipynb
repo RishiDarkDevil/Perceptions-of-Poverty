{
 "cells": [
  {
   "cell_type": "markdown",
   "id": "bbcf636a",
   "metadata": {},
   "source": [
    "## Importing Necessary Libraries"
   ]
  },
  {
   "cell_type": "code",
   "execution_count": 1,
   "id": "2421fb1a",
   "metadata": {},
   "outputs": [],
   "source": [
    "import numpy as np\n",
    "import pandas as pd\n",
    "import matplotlib.pyplot as plt"
   ]
  },
  {
   "cell_type": "markdown",
   "id": "b72c00c8",
   "metadata": {},
   "source": [
    "## Discrete Choice Experiment Design"
   ]
  },
  {
   "cell_type": "markdown",
   "id": "2ea5b35f",
   "metadata": {},
   "source": [
    "For designing the Questionnaire, since it's about measuring the preference level of the several indicators of poverty. I decided to go about using the `Discrete Choice Model`to come up with the `best` design to find out this preference level.\n",
    "\n",
    "Here our indicators are:\n",
    "- Nutrition\n",
    "- ... total 15 indicators\n",
    "\n",
    "Each of them has $2$ levels as per the existing MPI framework i.e. either a person has it or does not has it.\n",
    "\n",
    "So, we can have a total of $2^15$ profiles, where profile is a person's assignment of all these indicators i.e. say if there is a person $A$ (imaginary) and his assignment of all these indicators the vector $(1,0,1,1,0,..,1)$. Then this is one profile.\n",
    "\n",
    "We will place these profiles in choice sets (i.e. say person $A$ is to be ranked in a set which contains person $B$ and $C$ with different profiles). Then this set of size of $3$ is a choice set consisting $3$ profiles.\n",
    "\n",
    "Now I will design these choice sets (of size $3$) which will contain these profiles. And these are to be ranked. The optimality criteria I will choose is the $D-Optimality\\enspace Criterion$. More on it below."
   ]
  },
  {
   "cell_type": "markdown",
   "id": "b24b09e6",
   "metadata": {},
   "source": [
    "Statistically, the design is often compared to the variance-covariance matrix of parameter estimates and the best design is a design that is able to minimize the matrix of variance-covariance. The most commonly used approach to obtain a small variance-covariance matrix is to minimize its determinant, or equivalently, to maximize the determinant of the information matrix of parameter $\\beta$."
   ]
  },
  {
   "cell_type": "markdown",
   "id": "c10e06cc",
   "metadata": {},
   "source": [
    "$$D-Optimality\\enspace Criterion = |X'X - \\sum_{i=1}^S J^{-1}(X'_i1_J)(1'_JX_i)|$$\n",
    "\n",
    "where, $S$ is the number of choice sets in the DCE Design, $J$ is the number of profiles in the choice set, $X_i$ is the matrix of dimension $J\\times P$ ($P$ be the number of profiles given in each choice set) which indicates the levels of indicator given for each profile for each attribute in the $i^{th}$ choice set, $1_J$ is the J-dimensional vector of all $1$s and $X = [X'_1, \\dots, X'_S]'$.\n",
    "\n",
    "**Assumptions:**\n",
    "- The number of profiles in each choice set is same (constant)."
   ]
  },
  {
   "cell_type": "markdown",
   "id": "484a5032",
   "metadata": {},
   "source": [
    "Below, is the `D-Optimality Criterion` calculation function."
   ]
  },
  {
   "cell_type": "code",
   "execution_count": 12,
   "id": "d0ed0623",
   "metadata": {},
   "outputs": [],
   "source": [
    "def d_optimal_criterion(X, J, P, S):\n",
    "  j1 = np.ones((J, 1))\n",
    "  print(np.array([np.dot(np.dot(X[(J*i):(J*(i+1)),:].T, j1), np.dot(j1.T, X[(J*i):(J*(i+1)),:])) for i in range(S)]).shape)\n",
    "  d_opt = np.dot(X.T, X) - (np.sum(np.array([np.dot(np.dot(X[(J*i):(J*(i+1)),:].T, j1), np.dot(j1.T, X[(J*i):(J*(i+1)),:])) for i in range(S)])) / J)\n",
    "  print(d_opt.shape)\n",
    "  return np.linalg.det(d_opt)"
   ]
  },
  {
   "cell_type": "code",
   "execution_count": 16,
   "id": "29ef0162",
   "metadata": {},
   "outputs": [],
   "source": [
    "X = np.array(\n",
    "  [\n",
    "    [1,1,1,1],\n",
    "    [0,1,1,0],\n",
    "    [1,0,1,0],\n",
    "    [0,0,1,1],\n",
    "    [1,1,0,0],\n",
    "    [0,1,0,1],\n",
    "    [1,0,0,1],\n",
    "    [0,0,0,0],\n",
    "    [1,1,1,0],\n",
    "    [0,1,1,1],\n",
    "    [1,0,1,1],\n",
    "    [0,0,1,0],\n",
    "    [1,1,0,1],\n",
    "    [0,1,0,0],\n",
    "    [1,0,0,0],\n",
    "    [0,0,0,1]\n",
    "  ]\n",
    ")"
   ]
  },
  {
   "cell_type": "code",
   "execution_count": null,
   "id": "c82b0c55",
   "metadata": {},
   "outputs": [],
   "source": []
  },
  {
   "cell_type": "code",
   "execution_count": 14,
   "id": "68c66ba7",
   "metadata": {},
   "outputs": [],
   "source": [
    "J, P, S = 4, 4, 2"
   ]
  },
  {
   "cell_type": "code",
   "execution_count": 15,
   "id": "519ab6b8",
   "metadata": {},
   "outputs": [
    {
     "name": "stdout",
     "output_type": "stream",
     "text": [
      "(2, 8, 8)\n",
      "(8, 8)\n"
     ]
    },
    {
     "data": {
      "text/plain": [
       "2.846900380897717e-39"
      ]
     },
     "execution_count": 15,
     "metadata": {},
     "output_type": "execute_result"
    }
   ],
   "source": [
    "d_optimal_criterion(X, J, P, S)"
   ]
  },
  {
   "cell_type": "code",
   "execution_count": null,
   "id": "02a93746",
   "metadata": {},
   "outputs": [],
   "source": []
  }
 ],
 "metadata": {
  "kernelspec": {
   "display_name": "Python 3 (ipykernel)",
   "language": "python",
   "name": "python3"
  },
  "language_info": {
   "codemirror_mode": {
    "name": "ipython",
    "version": 3
   },
   "file_extension": ".py",
   "mimetype": "text/x-python",
   "name": "python",
   "nbconvert_exporter": "python",
   "pygments_lexer": "ipython3",
   "version": "3.8.16"
  }
 },
 "nbformat": 4,
 "nbformat_minor": 5
}
