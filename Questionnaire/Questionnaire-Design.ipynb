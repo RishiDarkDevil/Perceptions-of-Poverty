{
 "cells": [
  {
   "cell_type": "markdown",
   "id": "96874b53",
   "metadata": {},
   "source": [
    "## Importing Necessary Libraries"
   ]
  },
  {
   "cell_type": "code",
   "execution_count": 214,
   "id": "098d2efa",
   "metadata": {},
   "outputs": [],
   "source": [
    "import numpy as np\n",
    "import pandas as pd\n",
    "import matplotlib.pyplot as plt\n",
    "from tqdm import tqdm"
   ]
  },
  {
   "cell_type": "markdown",
   "id": "38a5e38c",
   "metadata": {},
   "source": [
    "## Discrete Choice Experiment Design"
   ]
  },
  {
   "cell_type": "markdown",
   "id": "0f6efab6",
   "metadata": {},
   "source": [
    "For designing the Questionnaire, since it's about measuring the preference level of the several indicators of poverty. I decided to go about using the `Discrete Choice Model`to come up with the `best` design to find out this preference level.\n",
    "\n",
    "Here our indicators are:\n",
    "- Nutrition\n",
    "- ... total 15 indicators\n",
    "\n",
    "Each of them has $2$ levels as per the existing MPI framework i.e. either a person has it or does not has it.\n",
    "\n",
    "So, we can have a total of $2^15$ profiles, where profile is a person's assignment of all these indicators i.e. say if there is a person $A$ (imaginary) and his assignment of all these indicators the vector $(1,0,1,1,0,..,1)$. Then this is one profile.\n",
    "\n",
    "We will place these profiles in choice sets (i.e. say person $A$ is to be ranked in a set which contains person $B$ and $C$ with different profiles). Then this set of size of $3$ is a choice set consisting $3$ profiles.\n",
    "\n",
    "Now I will design these choice sets (of size $3$) which will contain these profiles. And these are to be ranked. The optimality criteria I will choose is the $D-Optimality\\enspace Criterion$. More on it below."
   ]
  },
  {
   "cell_type": "markdown",
   "id": "4d940b73",
   "metadata": {},
   "source": [
    "Statistically, the design is often compared to the variance-covariance matrix of parameter estimates and the best design is a design that is able to minimize the matrix of variance-covariance. The most commonly used approach to obtain a small variance-covariance matrix is to minimize its determinant, or equivalently, to maximize the determinant of the information matrix of parameter $\\beta$."
   ]
  },
  {
   "cell_type": "markdown",
   "id": "29697c8d",
   "metadata": {},
   "source": [
    "$$D-Optimality\\enspace Criterion = |X'X - \\sum_{i=1}^S J^{-1}(X'_i1_J)(1'_JX_i)|$$\n",
    "\n",
    "where, $S$ is the number of choice sets in the DCE Design, $J$ is the number of profiles in the choice set, $X_i$ is the matrix of dimension $J\\times P$ ($P$ be the number of attribute given in each choice set) which indicates the levels of indicator given for each profile for each attribute in the $i^{th}$ choice set, $1_J$ is the J-dimensional vector of all $1$s and $X = [X'_1, \\dots, X'_S]'$. So, the dimension of $X$ is $S\\cdot J \\times P$\n",
    "\n",
    "**Assumptions:**\n",
    "- The number of profiles in each choice set is same (constant)."
   ]
  },
  {
   "cell_type": "markdown",
   "id": "6e66ed21",
   "metadata": {},
   "source": [
    "Below, is the `D-Optimality Criterion` calculation function."
   ]
  },
  {
   "cell_type": "code",
   "execution_count": 251,
   "id": "4d875feb",
   "metadata": {},
   "outputs": [],
   "source": [
    "def d_optimal_criterion(X, J, P, S):\n",
    "  '''\n",
    "  returns the D-Optimal Criterion value for design matrix X\n",
    "  :args:\n",
    "  - X: dimension S.J x P is the design matrix with each choice set containing J profiles spanning over P attributes\n",
    "  - J: Number of profiles in each choice set\n",
    "  - P: Number of attributes\n",
    "  - S: Number of choice sets\n",
    "  '''\n",
    "  j1 = np.ones((J, 1))\n",
    "  d_opt = np.dot(X.T, X) - (np.sum(np.array([np.dot(np.dot(X[(J*i):(J*(i+1)),:].T, j1), np.dot(j1.T, X[(J*i):(J*(i+1)),:])) for i in range(S)]), 0) / J)\n",
    "  return np.linalg.det(d_opt)"
   ]
  },
  {
   "cell_type": "markdown",
   "id": "07067972",
   "metadata": {},
   "source": [
    "## D-Optimal Algorithm with Point Exchange"
   ]
  },
  {
   "cell_type": "markdown",
   "id": "3da5bb5d",
   "metadata": {},
   "source": [
    "Now for the implementation of this algorithm, I need to start with a couple of initial values. Below I initialize them."
   ]
  },
  {
   "cell_type": "markdown",
   "id": "a1adaa6e",
   "metadata": {},
   "source": [
    "**Important Design Decisions:**\n",
    "- It is very difficult to ask a person (in field survey) more than 3 indicators in a profile. So, the $15$ indicators are split into $5$ buckets based on previous data. More on this later."
   ]
  },
  {
   "cell_type": "code",
   "execution_count": 263,
   "id": "6de58cf6",
   "metadata": {},
   "outputs": [],
   "source": [
    "# Let's take 4 attributes (Just an example)\n",
    "# Starting Design\n",
    "\n",
    "J = 4 # number of profiles per choice set\n",
    "P = 3 # number of attributes\n",
    "S = 2**P // J # number of choice sets\n",
    "\n",
    "# Change the portion \"{0:0<P>b}\" to whatever the value of P is in this case <P> = 3\n",
    "candidate_set = np.array([[int(x) for x in list(\"{0:03b}\".format(i))] for i in range(S*J)]) # candidate set\n",
    "X = np.copy(candidate_set)\n",
    "np.random.shuffle(X)\n",
    "D = np.copy(X) # starting design\n",
    "D0 = d_optimal_criterion(D, J, P, S) # D-Optimal criterion for starting design\n",
    "\n",
    "D_best = list()\n",
    "Niter = 1000 # number of times to iterate"
   ]
  },
  {
   "cell_type": "code",
   "execution_count": 264,
   "id": "2d7244e9",
   "metadata": {},
   "outputs": [
    {
     "data": {
      "text/plain": [
       "6.0"
      ]
     },
     "execution_count": 264,
     "metadata": {},
     "output_type": "execute_result"
    }
   ],
   "source": [
    "D0"
   ]
  },
  {
   "cell_type": "markdown",
   "id": "7e4aa6cd",
   "metadata": {},
   "source": [
    "We iterate for a large number of times to attain maximum `D-Optimal Criterion` value for a Design."
   ]
  },
  {
   "cell_type": "code",
   "execution_count": 265,
   "id": "93f14fd9",
   "metadata": {},
   "outputs": [
    {
     "name": "stdout",
     "output_type": "stream",
     "text": [
      "*** START ***\n",
      "Initial Design Matrix D-Optimal Criterion: 6.0\n"
     ]
    },
    {
     "name": "stderr",
     "output_type": "stream",
     "text": [
      " 12%|████▋                                 | 122/1000 [00:00<00:00, 1214.38it/s]"
     ]
    },
    {
     "name": "stdout",
     "output_type": "stream",
     "text": [
      "Improved Design Matrix D-Optimal Criterion: 7.999999999999998\n"
     ]
    },
    {
     "name": "stderr",
     "output_type": "stream",
     "text": [
      "100%|█████████████████████████████████████| 1000/1000 [00:00<00:00, 1639.72it/s]\n"
     ]
    }
   ],
   "source": [
    "print('*** START ***')\n",
    "print('Initial Design Matrix D-Optimal Criterion:', D0)\n",
    "for _ in tqdm(range(Niter)):\n",
    "  try:\n",
    "\n",
    "    # Random Starting Design\n",
    "    D = np.copy(candidate_set)\n",
    "    np.random.shuffle(D)\n",
    "\n",
    "    # One-Point Exchange Algorithm Iteration\n",
    "    for j in range(J):\n",
    "      for k in range(int(2**P)):\n",
    "        Dn = np.copy(D)\n",
    "        Dn[[j, k]] = Dn[[k, j]]\n",
    "        Dnew = d_optimal_criterion(Dn, J, P, S)\n",
    "        if Dnew > D0:\n",
    "          print('Improved Design Matrix D-Optimal Criterion:', Dnew)\n",
    "          D0 = Dnew\n",
    "          D = np.copy(Dn)\n",
    "    D_best.append((D, D0))\n",
    "  \n",
    "  except:\n",
    "    print('Stopped!')\n",
    "    break"
   ]
  },
  {
   "cell_type": "code",
   "execution_count": 267,
   "id": "97ec808f",
   "metadata": {},
   "outputs": [
    {
     "data": {
      "text/plain": [
       "[<matplotlib.lines.Line2D at 0x136e0a550>]"
      ]
     },
     "execution_count": 267,
     "metadata": {},
     "output_type": "execute_result"
    },
    {
     "data": {
      "image/png": "[encoded data removed]",
      "text/plain": [
       "<Figure size 1000x1000 with 1 Axes>"
      ]
     },
     "metadata": {},
     "output_type": "display_data"
    }
   ],
   "source": [
    "plt.figure(figsize=(10,10))\n",
    "plt.plot([d for _, d in D_best])"
   ]
  },
  {
   "cell_type": "markdown",
   "id": "1ca85818",
   "metadata": {},
   "source": [
    "So, the best design by `D-Optimal Criterion` is:"
   ]
  },
  {
   "cell_type": "code",
   "execution_count": 268,
   "id": "81739c50",
   "metadata": {},
   "outputs": [
    {
     "data": {
      "text/plain": [
       "array([[1, 1, 0],\n",
       "       [1, 0, 0],\n",
       "       [1, 0, 1],\n",
       "       [1, 1, 1],\n",
       "       [0, 1, 1],\n",
       "       [0, 0, 0],\n",
       "       [0, 0, 1],\n",
       "       [0, 1, 0]])"
      ]
     },
     "execution_count": 268,
     "metadata": {},
     "output_type": "execute_result"
    }
   ],
   "source": [
    "D_best[-1][0]"
   ]
  },
  {
   "cell_type": "code",
   "execution_count": 242,
   "id": "67be945e",
   "metadata": {},
   "outputs": [
    {
     "data": {
      "text/plain": [
       "8"
      ]
     },
     "execution_count": 242,
     "metadata": {},
     "output_type": "execute_result"
    }
   ],
   "source": [
    "2**3"
   ]
  },
  {
   "cell_type": "code",
   "execution_count": null,
   "id": "7d812280",
   "metadata": {},
   "outputs": [],
   "source": []
  }
 ],
 "metadata": {
  "kernelspec": {
   "display_name": "Python 3 (ipykernel)",
   "language": "python",
   "name": "python3"
  },
  "language_info": {
   "codemirror_mode": {
    "name": "ipython",
    "version": 3
   },
   "file_extension": ".py",
   "mimetype": "text/x-python",
   "name": "python",
   "nbconvert_exporter": "python",
   "pygments_lexer": "ipython3",
   "version": "3.8.16"
  }
 },
 "nbformat": 4,
 "nbformat_minor": 5
}
